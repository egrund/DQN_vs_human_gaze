{
 "cells": [
  {
   "cell_type": "markdown",
   "id": "ed441cbf",
   "metadata": {},
   "source": [
    "## Prepare data for the gaze prediction network"
   ]
  },
  {
   "cell_type": "code",
   "execution_count": null,
   "id": "efa84c77",
   "metadata": {},
   "outputs": [],
   "source": [
    "from pathlib import Path\n",
    "\n",
    "all_gaze_files = Path.cwd().rglob('./asterix/*.txt')"
   ]
  },
  {
   "cell_type": "code",
   "execution_count": null,
   "id": "60e62df4",
   "metadata": {},
   "outputs": [],
   "source": [
    "def check_gaze_range(pos_x, pos_y, w=160, h=210):\n",
    "    \"\"\"Helper function to check whether the gaze\n",
    "    coordinate is within the screen area\"\"\"\n",
    "    if pos_x < 0 or pos_x > w or pos_y < 0 or pos_y > h:\n",
    "        return False\n",
    "    return True"
   ]
  },
  {
   "cell_type": "code",
   "execution_count": null,
   "id": "8f4e00b4",
   "metadata": {},
   "outputs": [],
   "source": [
    "import numpy as np\n",
    "from scipy import ndimage as ndi\n",
    "from imageio import imwrite\n",
    "from data_reader import read_gaze_data_csv_file as read_gaze\n",
    "\n",
    "for file in all_gaze_files:\n",
    "    gaze_positions, _, _, _, _, _, frameid_list = read_gaze(file)\n",
    "    for frame_id in frameid_list:\n",
    "        gaze_list = gaze_positions[frame_id]\n",
    "        heatmap = np.zeros((210, 160))\n",
    "        if gaze_list is not None and len(gaze_list) > 0:\n",
    "            for (x, y) in gaze_list:\n",
    "                if check_gaze_range(x, y):\n",
    "                    heatmap[int(y - 1), int(x - 1)] += 1\n",
    "\n",
    "        # sigma should be one visual degree\n",
    "        # 0.40 visual degrees = 2.94 pixels (Zhang et al. 2019, p. 3)\n",
    "        # 1 visual degree = 7.35 pixels or, rounded, 7 pixels\n",
    "        heatmap = ndi.gaussian_filter(heatmap, sigma=7)\n",
    "        heatmap = np.interp(heatmap, (heatmap.min(), heatmap.max()), (0, 255)) # change pixel values range from [0,1] to [0, 255]\n",
    "        imwrite(f\"./asterix/heatmaps/{frame_id}.png\", heatmap.astype(np.uint8))"
   ]
  },
  {
   "cell_type": "code",
   "execution_count": null,
   "id": "4e0c0b95",
   "metadata": {},
   "outputs": [],
   "source": [
    "import os\n",
    "\n",
    "heatmaps_list = os.listdir(\"./asterix/heatmaps/\")\n",
    "frames_list = os.listdir(\"./asterix/frames/\")\n",
    "assert len(heatmaps_list) == len(frames_list), \"Number of heatmaps is not the same as the number of frames\""
   ]
  }
 ],
 "metadata": {
  "kernelspec": {
   "display_name": "Python 3 (ipykernel)",
   "language": "python",
   "name": "python3"
  },
  "language_info": {
   "codemirror_mode": {
    "name": "ipython",
    "version": 3
   },
   "file_extension": ".py",
   "mimetype": "text/x-python",
   "name": "python",
   "nbconvert_exporter": "python",
   "pygments_lexer": "ipython3",
   "version": "3.10.6"
  }
 },
 "nbformat": 4,
 "nbformat_minor": 5
}
