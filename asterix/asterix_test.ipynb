{
 "cells": [
  {
   "cell_type": "code",
   "execution_count": 1,
   "metadata": {},
   "outputs": [],
   "source": [
    "import tensorflow as tf\n",
    "import matplotlib.pyplot as plt\n",
    "import tensorflow_addons as tfa\n",
    "import tensorflow_datasets as tfds\n",
    "import tqdm as tqdm\n",
    "import tensorflow_probability as tfp\n",
    "import random as rand\n",
    "from PIL import Image, ImageDraw\n",
    "import numpy as np\n",
    "import datetime\n",
    "from blurr import to_blurred\n",
    "import gym\n",
    "import threading, queue\n",
    "from buffer import Buffer\n",
    "from dqn import DQN\n",
    "from sample_trajectory import create_trajectory_thread,create_trajectory"
   ]
  },
  {
   "cell_type": "code",
   "execution_count": 2,
   "metadata": {},
   "outputs": [],
   "source": [
    "BUFFER_SIZE = 2000\n",
    "MIN_ELEMENTS_IN_BUFFER = 1000\n",
    "THREADS = 10\n",
    "INNER_ITS = 50\n",
    "EPSILON_DECAY = 0.001"
   ]
  },
  {
   "cell_type": "code",
   "execution_count": 3,
   "metadata": {},
   "outputs": [
    {
     "name": "stdout",
     "output_type": "stream",
     "text": [
      "Filling buffer:  0\n",
      "Filling buffer:  54\n",
      "Filling buffer:  108\n",
      "Filling buffer:  175\n",
      "Filling buffer:  249\n",
      "Filling buffer:  320\n",
      "Filling buffer:  400\n",
      "Filling buffer:  480\n",
      "Filling buffer:  563\n",
      "Filling buffer:  616\n",
      "Filling buffer:  670\n",
      "Filling buffer:  724\n",
      "Filling buffer:  779\n",
      "Filling buffer:  917\n",
      "Filling buffer:  981\n",
      "round:  0  average reward:  tf.Tensor(3.164557, shape=(), dtype=float32)\n",
      "round:  1  average reward:  tf.Tensor(3.271028, shape=(), dtype=float32)\n",
      "round:  2  average reward:  tf.Tensor(1.1235955, shape=(), dtype=float32)\n"
     ]
    },
    {
     "ename": "KeyboardInterrupt",
     "evalue": "",
     "output_type": "error",
     "traceback": [
      "\u001b[1;31m---------------------------------------------------------------------------\u001b[0m",
      "\u001b[1;31mKeyboardInterrupt\u001b[0m                         Traceback (most recent call last)",
      "\u001b[1;32mc:\\Users\\Leon\\Documents\\drl\\project\\asterix_test.ipynb Zelle 3\u001b[0m in \u001b[0;36m<cell line: 24>\u001b[1;34m()\u001b[0m\n\u001b[0;32m     <a href='vscode-notebook-cell:/c%3A/Users/Leon/Documents/drl/project/asterix_test.ipynb#ch0000002?line=44'>45</a>\u001b[0m     loss \u001b[39m=\u001b[39m model\u001b[39m.\u001b[39mstep(s,a,r,s_new,done, optimizer, model_target)\n\u001b[0;32m     <a href='vscode-notebook-cell:/c%3A/Users/Leon/Documents/drl/project/asterix_test.ipynb#ch0000002?line=46'>47</a>\u001b[0m     \u001b[39mwith\u001b[39;00m dqn_summary_writer\u001b[39m.\u001b[39mas_default():\n\u001b[1;32m---> <a href='vscode-notebook-cell:/c%3A/Users/Leon/Documents/drl/project/asterix_test.ipynb#ch0000002?line=47'>48</a>\u001b[0m         tf\u001b[39m.\u001b[39;49msummary\u001b[39m.\u001b[39;49mscalar(\u001b[39m\"\u001b[39;49m\u001b[39mdqn\u001b[39;49m\u001b[39m\"\u001b[39;49m, loss, step\u001b[39m=\u001b[39;49mj\u001b[39m+\u001b[39;49mi\u001b[39m*\u001b[39;49mINNER_ITS)\n\u001b[0;32m     <a href='vscode-notebook-cell:/c%3A/Users/Leon/Documents/drl/project/asterix_test.ipynb#ch0000002?line=49'>50</a>\u001b[0m model\u001b[39m.\u001b[39msave_weights(\u001b[39m\"\u001b[39m\u001b[39m./asterix_test/run1/model\u001b[39m\u001b[39m\"\u001b[39m)\n\u001b[0;32m     <a href='vscode-notebook-cell:/c%3A/Users/Leon/Documents/drl/project/asterix_test.ipynb#ch0000002?line=50'>51</a>\u001b[0m model_target\u001b[39m.\u001b[39msave_weights(\u001b[39m\"\u001b[39m\u001b[39m./asterix_test/run1/model_target\u001b[39m\u001b[39m\"\u001b[39m)\n",
      "File \u001b[1;32mc:\\Users\\Leon\\anaconda3\\envs\\evw\\lib\\site-packages\\tensorboard\\plugins\\scalar\\summary_v2.py:89\u001b[0m, in \u001b[0;36mscalar\u001b[1;34m(name, data, step, description)\u001b[0m\n\u001b[0;32m     87\u001b[0m \u001b[39mwith\u001b[39;00m summary_scope(name, \u001b[39m\"\u001b[39m\u001b[39mscalar_summary\u001b[39m\u001b[39m\"\u001b[39m, values\u001b[39m=\u001b[39m[data, step]) \u001b[39mas\u001b[39;00m (tag, _):\n\u001b[0;32m     88\u001b[0m     tf\u001b[39m.\u001b[39mdebugging\u001b[39m.\u001b[39massert_scalar(data)\n\u001b[1;32m---> 89\u001b[0m     \u001b[39mreturn\u001b[39;00m tf\u001b[39m.\u001b[39;49msummary\u001b[39m.\u001b[39;49mwrite(\n\u001b[0;32m     90\u001b[0m         tag\u001b[39m=\u001b[39;49mtag,\n\u001b[0;32m     91\u001b[0m         tensor\u001b[39m=\u001b[39;49mtf\u001b[39m.\u001b[39;49mcast(data, tf\u001b[39m.\u001b[39;49mfloat32),\n\u001b[0;32m     92\u001b[0m         step\u001b[39m=\u001b[39;49mstep,\n\u001b[0;32m     93\u001b[0m         metadata\u001b[39m=\u001b[39;49msummary_metadata,\n\u001b[0;32m     94\u001b[0m     )\n",
      "File \u001b[1;32mc:\\Users\\Leon\\anaconda3\\envs\\evw\\lib\\site-packages\\tensorflow\\python\\ops\\summary_ops_v2.py:767\u001b[0m, in \u001b[0;36mwrite\u001b[1;34m(tag, tensor, step, metadata, name)\u001b[0m\n\u001b[0;32m    764\u001b[0m     \u001b[39mwith\u001b[39;00m ops\u001b[39m.\u001b[39mcontrol_dependencies([write_summary_op]):\n\u001b[0;32m    765\u001b[0m       \u001b[39mreturn\u001b[39;00m constant_op\u001b[39m.\u001b[39mconstant(\u001b[39mTrue\u001b[39;00m)\n\u001b[1;32m--> 767\u001b[0m op \u001b[39m=\u001b[39m smart_cond\u001b[39m.\u001b[39;49msmart_cond(\n\u001b[0;32m    768\u001b[0m     should_record_summaries(), record, _nothing, name\u001b[39m=\u001b[39;49m\u001b[39m\"\u001b[39;49m\u001b[39msummary_cond\u001b[39;49m\u001b[39m\"\u001b[39;49m)\n\u001b[0;32m    769\u001b[0m \u001b[39mif\u001b[39;00m \u001b[39mnot\u001b[39;00m context\u001b[39m.\u001b[39mexecuting_eagerly():\n\u001b[0;32m    770\u001b[0m   ops\u001b[39m.\u001b[39madd_to_collection(ops\u001b[39m.\u001b[39mGraphKeys\u001b[39m.\u001b[39m_SUMMARY_COLLECTION, op)  \u001b[39m# pylint: disable=protected-access\u001b[39;00m\n",
      "File \u001b[1;32mc:\\Users\\Leon\\anaconda3\\envs\\evw\\lib\\site-packages\\tensorflow\\python\\framework\\smart_cond.py:50\u001b[0m, in \u001b[0;36msmart_cond\u001b[1;34m(pred, true_fn, false_fn, name)\u001b[0m\n\u001b[0;32m     46\u001b[0m \u001b[39mif\u001b[39;00m \u001b[39mnot\u001b[39;00m callable(false_fn):\n\u001b[0;32m     47\u001b[0m   \u001b[39mraise\u001b[39;00m \u001b[39mTypeError\u001b[39;00m(\n\u001b[0;32m     48\u001b[0m       \u001b[39mf\u001b[39m\u001b[39m\"\u001b[39m\u001b[39mArgument `false_fn` must be callable. Received \u001b[39m\u001b[39m{\u001b[39;00mfalse_fn\u001b[39m}\u001b[39;00m\u001b[39m\"\u001b[39m)\n\u001b[1;32m---> 50\u001b[0m pred_value \u001b[39m=\u001b[39m smart_constant_value(pred)\n\u001b[0;32m     51\u001b[0m \u001b[39mif\u001b[39;00m pred_value \u001b[39mis\u001b[39;00m \u001b[39mnot\u001b[39;00m \u001b[39mNone\u001b[39;00m:\n\u001b[0;32m     52\u001b[0m   \u001b[39mif\u001b[39;00m pred_value:\n",
      "File \u001b[1;32mc:\\Users\\Leon\\anaconda3\\envs\\evw\\lib\\site-packages\\tensorflow\\python\\framework\\smart_cond.py:74\u001b[0m, in \u001b[0;36msmart_constant_value\u001b[1;34m(pred)\u001b[0m\n\u001b[0;32m     62\u001b[0m \u001b[39m\"\"\"Return the bool value for `pred`, or None if `pred` had a dynamic value.\u001b[39;00m\n\u001b[0;32m     63\u001b[0m \n\u001b[0;32m     64\u001b[0m \u001b[39mArgs:\u001b[39;00m\n\u001b[1;32m   (...)\u001b[0m\n\u001b[0;32m     71\u001b[0m \u001b[39m  TypeError: If `pred` is not a Tensor or bool.\u001b[39;00m\n\u001b[0;32m     72\u001b[0m \u001b[39m\"\"\"\u001b[39;00m\n\u001b[0;32m     73\u001b[0m \u001b[39mif\u001b[39;00m \u001b[39misinstance\u001b[39m(pred, ops\u001b[39m.\u001b[39mTensor):\n\u001b[1;32m---> 74\u001b[0m   pred_value \u001b[39m=\u001b[39m tensor_util\u001b[39m.\u001b[39;49mconstant_value(pred)\n\u001b[0;32m     75\u001b[0m   \u001b[39m# TODO(skyewm): consider folding this into tensor_util.constant_value.\u001b[39;00m\n\u001b[0;32m     76\u001b[0m   \u001b[39m# pylint: disable=protected-access\u001b[39;00m\n\u001b[0;32m     77\u001b[0m   \u001b[39mif\u001b[39;00m pred_value \u001b[39mis\u001b[39;00m \u001b[39mNone\u001b[39;00m:\n",
      "File \u001b[1;32mc:\\Users\\Leon\\anaconda3\\envs\\evw\\lib\\site-packages\\tensorflow\\python\\framework\\tensor_util.py:869\u001b[0m, in \u001b[0;36mconstant_value\u001b[1;34m(tensor, partial)\u001b[0m\n\u001b[0;32m    867\u001b[0m \u001b[39mif\u001b[39;00m \u001b[39misinstance\u001b[39m(tensor, ops\u001b[39m.\u001b[39mEagerTensor):\n\u001b[0;32m    868\u001b[0m   \u001b[39mtry\u001b[39;00m:\n\u001b[1;32m--> 869\u001b[0m     \u001b[39mreturn\u001b[39;00m tensor\u001b[39m.\u001b[39;49mnumpy()\n\u001b[0;32m    870\u001b[0m   \u001b[39mexcept\u001b[39;00m errors_impl\u001b[39m.\u001b[39mUnimplementedError:\n\u001b[0;32m    871\u001b[0m     \u001b[39m# Some EagerTensors may not implement .numpy/resolve, e.g. parallel\u001b[39;00m\n\u001b[0;32m    872\u001b[0m     \u001b[39m# tensors with multiple components on different devices.\u001b[39;00m\n\u001b[0;32m    873\u001b[0m     \u001b[39mreturn\u001b[39;00m \u001b[39mNone\u001b[39;00m\n",
      "File \u001b[1;32mc:\\Users\\Leon\\anaconda3\\envs\\evw\\lib\\site-packages\\tensorflow\\python\\framework\\ops.py:1223\u001b[0m, in \u001b[0;36m_EagerTensorBase.numpy\u001b[1;34m(self)\u001b[0m\n\u001b[0;32m   1200\u001b[0m \u001b[39m\"\"\"Copy of the contents of this Tensor into a NumPy array or scalar.\u001b[39;00m\n\u001b[0;32m   1201\u001b[0m \n\u001b[0;32m   1202\u001b[0m \u001b[39mUnlike NumPy arrays, Tensors are immutable, so this method has to copy\u001b[39;00m\n\u001b[1;32m   (...)\u001b[0m\n\u001b[0;32m   1220\u001b[0m \u001b[39m    NumPy dtype.\u001b[39;00m\n\u001b[0;32m   1221\u001b[0m \u001b[39m\"\"\"\u001b[39;00m\n\u001b[0;32m   1222\u001b[0m \u001b[39m# TODO(slebedev): Consider avoiding a copy for non-CPU or remote tensors.\u001b[39;00m\n\u001b[1;32m-> 1223\u001b[0m maybe_arr \u001b[39m=\u001b[39m \u001b[39mself\u001b[39;49m\u001b[39m.\u001b[39;49m_numpy()  \u001b[39m# pylint: disable=protected-access\u001b[39;00m\n\u001b[0;32m   1224\u001b[0m \u001b[39mreturn\u001b[39;00m maybe_arr\u001b[39m.\u001b[39mcopy() \u001b[39mif\u001b[39;00m \u001b[39misinstance\u001b[39m(maybe_arr, np\u001b[39m.\u001b[39mndarray) \u001b[39melse\u001b[39;00m maybe_arr\n",
      "File \u001b[1;32mc:\\Users\\Leon\\anaconda3\\envs\\evw\\lib\\site-packages\\tensorflow\\python\\framework\\ops.py:1189\u001b[0m, in \u001b[0;36m_EagerTensorBase._numpy\u001b[1;34m(self)\u001b[0m\n\u001b[0;32m   1187\u001b[0m \u001b[39mdef\u001b[39;00m \u001b[39m_numpy\u001b[39m(\u001b[39mself\u001b[39m):\n\u001b[0;32m   1188\u001b[0m   \u001b[39mtry\u001b[39;00m:\n\u001b[1;32m-> 1189\u001b[0m     \u001b[39mreturn\u001b[39;00m \u001b[39mself\u001b[39;49m\u001b[39m.\u001b[39;49m_numpy_internal()\n\u001b[0;32m   1190\u001b[0m   \u001b[39mexcept\u001b[39;00m core\u001b[39m.\u001b[39m_NotOkStatusException \u001b[39mas\u001b[39;00m e:  \u001b[39m# pylint: disable=protected-access\u001b[39;00m\n\u001b[0;32m   1191\u001b[0m     \u001b[39mraise\u001b[39;00m core\u001b[39m.\u001b[39m_status_to_exception(e) \u001b[39mfrom\u001b[39;00m \u001b[39mNone\u001b[39m\n",
      "\u001b[1;31mKeyboardInterrupt\u001b[0m: "
     ]
    }
   ],
   "source": [
    "model = DQN(9)\n",
    "model_target = DQN(9)\n",
    "buffer = Buffer(BUFFER_SIZE, MIN_ELEMENTS_IN_BUFFER)\n",
    "\n",
    "# initialize weights \n",
    "model(tf.random.uniform(shape=(1,84,84,4)))\n",
    "model_target(tf.random.uniform(shape=(1,84,84,4)))\n",
    "model_target.set_weights(np.array(model.get_weights(),dtype = object))\n",
    "\n",
    "# initialize buffer\n",
    "buffer.fill(THREADS,create_trajectory_thread,model,1)\n",
    "\n",
    "optimizer = tf.keras.optimizers.Adam(0.00025, beta_1=0.9, beta_2=0.999, epsilon=1e-07)\n",
    "epsilon = 1\n",
    "\n",
    "# https://www.tensorflow.org/tensorboard/get_started\n",
    "current_time = datetime.datetime.now().strftime(\"%Y%m%d-%H%M%S\")\n",
    "dqn_log_dir = 'logs/asterix_test/run1/' + current_time + '/dqn'\n",
    "reward_log_dir = 'logs/asterix_test/run1/' + current_time + '/reward'\n",
    "dqn_summary_writer = tf.summary.create_file_writer(dqn_log_dir)\n",
    "reward_summary_writer = tf.summary.create_file_writer(reward_log_dir)\n",
    "\n",
    "\n",
    "for i in range(12000):\n",
    "\n",
    "    # apply polyak averaging\n",
    "    model_target.set_weights((1-0.1)*np.array(model_target.get_weights(),dtype = object) + 0.1*np.array(model.get_weights(),dtype = object))\n",
    "\n",
    "    # sample new trajectory\n",
    "    new_data = create_trajectory(model,False,epsilon)\n",
    "    if epsilon > 0.1:\n",
    "        epsilon -= EPSILON_DECAY\n",
    "    reward = []\n",
    "    for s,a,r,new_s,done in new_data:\n",
    "        reward.append(tf.cast(r,tf.float32))\n",
    "    print(\"round: \", i,\" average reward: \",tf.reduce_mean(reward))\n",
    "\n",
    "    # log average reward in tensorboard\n",
    "    with reward_summary_writer.as_default():\n",
    "        tf.summary.scalar(\"reward\", tf.reduce_mean(reward), step = i*INNER_ITS)\n",
    "\n",
    "    # add new data to replay buffer\n",
    "    buffer.extend(new_data)\n",
    "\n",
    "    for j in range(INNER_ITS):\n",
    "        s,a,r,s_new,done  = buffer.sample_minibatch(512)\n",
    "        loss = model.step(s,a,r,s_new,done, optimizer, model_target)\n",
    "\n",
    "        # log loss in tensorboard\n",
    "        with dqn_summary_writer.as_default():\n",
    "            tf.summary.scalar(\"dqn\", loss, step=j+i*INNER_ITS)\n",
    "\n",
    "    model.save_weights(\"./asterix_test/run1/model\")\n",
    "    model_target.save_weights(\"./asterix_test/run1/model_target\")"
   ]
  }
 ],
 "metadata": {
  "kernelspec": {
   "display_name": "Python 3.9.12 ('evw')",
   "language": "python",
   "name": "python3"
  },
  "language_info": {
   "codemirror_mode": {
    "name": "ipython",
    "version": 3
   },
   "file_extension": ".py",
   "mimetype": "text/x-python",
   "name": "python",
   "nbconvert_exporter": "python",
   "pygments_lexer": "ipython3",
   "version": "3.9.12"
  },
  "orig_nbformat": 4,
  "vscode": {
   "interpreter": {
    "hash": "f7b649caca5a644fb2e9b7eb69170465c0b8e401af14bbd0e1023a71974d9dfc"
   }
  }
 },
 "nbformat": 4,
 "nbformat_minor": 2
}
